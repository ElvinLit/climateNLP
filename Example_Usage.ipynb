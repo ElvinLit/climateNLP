{
 "cells": [
  {
   "cell_type": "markdown",
   "id": "b8cd4497-8f25-4923-9f48-e905a7afbad2",
   "metadata": {},
   "source": [
    "# Imports"
   ]
  },
  {
   "cell_type": "code",
   "execution_count": 11,
   "id": "0090872b-8d9c-43ab-82c4-667ce3a699f8",
   "metadata": {
    "tags": []
   },
   "outputs": [],
   "source": [
    "import pandas as pd\n",
    "import numpy as np\n",
    "import matplotlib.pyplot as plt\n",
    "\n",
    "import time\n",
    "\n",
    "from sklearn.metrics import classification_report, accuracy_score, precision_score, f1_score, recall_score, precision_recall_fscore_support, roc_auc_score, confusion_matrix\n",
    "\n",
    "from transformers import AutoModel, AutoTokenizer, AutoModelForSequenceClassification, DefaultDataCollator\n",
    "from datasets import Dataset\n",
    "import torch\n",
    "from torch.utils.data import DataLoader\n",
    "\n",
    "from tqdm.auto import tqdm"
   ]
  },
  {
   "cell_type": "code",
   "execution_count": 6,
   "id": "7ea55602-11fe-4551-a5f6-643d6df77eec",
   "metadata": {
    "tags": []
   },
   "outputs": [],
   "source": [
    "model_path = \"./results_BERT_new/saved_model\"\n",
    "tokenizer_BERT = AutoTokenizer.from_pretrained(model_path)\n",
    "model_BERT = AutoModelForSequenceClassification.from_pretrained(model_path)"
   ]
  },
  {
   "cell_type": "markdown",
   "id": "f83bd0c2-32ac-46ad-9f52-fa69b4e06fd1",
   "metadata": {},
   "source": [
    "# Data"
   ]
  },
  {
   "cell_type": "markdown",
   "id": "7cee283d-3a13-41b5-8f99-fb848b3a68eb",
   "metadata": {},
   "source": [
    "Let's make an example dataset. We will make a dataframe with 10 rows of random climate related text."
   ]
  },
  {
   "cell_type": "code",
   "execution_count": 4,
   "id": "be47d800-5a6c-4e80-8bc8-0469fd459ab8",
   "metadata": {
    "tags": []
   },
   "outputs": [],
   "source": [
    "INDC_Text = [\n",
    "    \"Climate change is leading to more frequent and severe weather events.\",\n",
    "    \"Rising global temperatures are causing polar ice to melt at an alarming rate.\",\n",
    "    \"Deforestation is a major contributor to the increase in greenhouse gases.\",\n",
    "    \"Ocean acidification is harming marine ecosystems and biodiversity.\",\n",
    "    \"Increased carbon emissions are driving global warming and climate change.\",\n",
    "    \"The loss of biodiversity is exacerbated by changing climate conditions.\",\n",
    "    \"Extreme weather events, such as hurricanes and wildfires, are becoming more common.\",\n",
    "    \"Rising sea levels are threatening coastal communities and habitats.\",\n",
    "    \"The climate crisis is impacting food security and agricultural productivity.\",\n",
    "    \"Air pollution from burning fossil fuels is a significant health risk and environmental problem.\"\n",
    "]\n",
    "\n",
    "df = pd.DataFrame(INDC_Text, columns=[\"INDC Text\"])"
   ]
  },
  {
   "cell_type": "markdown",
   "id": "81bfd3e1-a82a-4b70-a57c-2e3e77552c30",
   "metadata": {},
   "source": [
    "# Predict"
   ]
  },
  {
   "cell_type": "markdown",
   "id": "1d830c47-7a19-48af-b3fa-bf6f502616f3",
   "metadata": {},
   "source": [
    "Helper function for handling predictions"
   ]
  },
  {
   "cell_type": "code",
   "execution_count": 9,
   "id": "331d7bc7-31c3-4592-9a69-8f0357ac34ca",
   "metadata": {
    "tags": []
   },
   "outputs": [],
   "source": [
    "def transformer_predict(model, tokenizer, df, text_column_name=\"INDC Text\"):\n",
    "    def tokenize_function(examples):\n",
    "        return tokenizer(examples[text_column_name], padding=\"max_length\", truncation=True, max_length=512)\n",
    "\n",
    "    dataset = Dataset.from_pandas(df)\n",
    "    dataset = dataset.map(tokenize_function, batched=True)\n",
    "\n",
    "    data_collator = DefaultDataCollator()\n",
    "    dataloader = DataLoader(dataset, collate_fn=data_collator, batch_size=1)\n",
    "    \n",
    "    device = \"cuda\" if torch.cuda.is_available() else \"cpu\"\n",
    "    model.to(device)\n",
    "    \n",
    "    model.eval()\n",
    "    predictions = []\n",
    "\n",
    "    with torch.no_grad():\n",
    "        for batch in tqdm(dataloader, desc=\"Evaluating\"):\n",
    "            batch = {k: v.to(device) for k, v in batch.items() if k in tokenizer.model_input_names}\n",
    "            outputs = model(**batch)\n",
    "            logits = outputs.logits\n",
    "            preds = torch.argmax(logits, dim=-1)\n",
    "            predictions.extend(preds.cpu().numpy())\n",
    "    \n",
    "    return predictions"
   ]
  },
  {
   "cell_type": "code",
   "execution_count": 12,
   "id": "10f92c15-3eb5-48f5-a627-cb079c762062",
   "metadata": {
    "tags": []
   },
   "outputs": [
    {
     "data": {
      "application/vnd.jupyter.widget-view+json": {
       "model_id": "",
       "version_major": 2,
       "version_minor": 0
      },
      "text/plain": [
       "Map:   0%|          | 0/10 [00:00<?, ? examples/s]"
      ]
     },
     "metadata": {},
     "output_type": "display_data"
    },
    {
     "data": {
      "application/vnd.jupyter.widget-view+json": {
       "model_id": "6c522cd70e8543da814d85b6839b8c62",
       "version_major": 2,
       "version_minor": 0
      },
      "text/plain": [
       "Evaluating:   0%|          | 0/10 [00:00<?, ?it/s]"
      ]
     },
     "metadata": {},
     "output_type": "display_data"
    }
   ],
   "source": [
    "output_BERT = transformer_predict(model_BERT, tokenizer_BERT, df)"
   ]
  },
  {
   "cell_type": "markdown",
   "id": "b10140bd-8ba5-4339-8bcb-b9a211d8ad62",
   "metadata": {},
   "source": [
    "**VERY IMPORTANT** The original fine-tuned BERT that I trained has a specific mapping for each class integer. They do not correspond with the goal number, and I will define the mapping here"
   ]
  },
  {
   "cell_type": "code",
   "execution_count": 20,
   "id": "35f03dd3-1cce-4143-a4d8-f19faa5e8df5",
   "metadata": {
    "tags": []
   },
   "outputs": [],
   "source": [
    "mapping_goal_class = {'Goal 7 - Affordable and Clean Energy': 0,\n",
    " 'Goal 12 - Responsible Consumption and Production ': 1,\n",
    " 'Goal 4 - Quality Education': 2,\n",
    " 'Goal 13 - Climate Action': 3,\n",
    " 'Goal 1 - No Poverty ': 4,\n",
    " 'Goal 15 - Life on Land': 5,\n",
    " 'Goal 2 - Zero Hunger': 6,\n",
    " 'Goal 17 - Partnerships for the Goal': 7,\n",
    " 'Goal 8 - Decent Work and Economic Growth': 8,\n",
    " 'Goal 9 - Industry, Innovation and Infrastructure': 9,\n",
    " 'Goal 11 - Sustainable Cities and Communities ': 10,\n",
    " 'Goal 3 - Good Health and Well-being': 11,\n",
    " 'Goal 6 - Clean Water and Sanitation': 12,\n",
    " 'Goal 14 - Life Below Water': 13,\n",
    " 'Goal 5 - Gender Equality': 14,\n",
    " 'Goal 16 - Peace, Justice and Strong Institutions': 15,\n",
    " 'Goal 10 - Reduced Inequalities': 16,\n",
    " 'missing_text': 17}"
   ]
  },
  {
   "cell_type": "code",
   "execution_count": 19,
   "id": "b81d2c57-e71c-45ab-a01f-48a0e1f77b5b",
   "metadata": {
    "tags": []
   },
   "outputs": [
    {
     "data": {
      "text/plain": [
       "{0: 'Goal 7 - Affordable and Clean Energy',\n",
       " 1: 'Goal 12 - Responsible Consumption and Production ',\n",
       " 2: 'Goal 4 - Quality Education',\n",
       " 3: 'Goal 13 - Climate Action',\n",
       " 4: 'Goal 1 - No Poverty ',\n",
       " 5: 'Goal 15 - Life on Land',\n",
       " 6: 'Goal 2 - Zero Hunger',\n",
       " 7: 'Goal 17 - Partnerships for the Goal',\n",
       " 8: 'Goal 8 - Decent Work and Economic Growth',\n",
       " 9: 'Goal 9 - Industry, Innovation and Infrastructure',\n",
       " 10: 'Goal 11 - Sustainable Cities and Communities ',\n",
       " 11: 'Goal 3 - Good Health and Well-being',\n",
       " 12: 'Goal 6 - Clean Water and Sanitation',\n",
       " 13: 'Goal 14 - Life Below Water',\n",
       " 14: 'Goal 5 - Gender Equality',\n",
       " 15: 'Goal 16 - Peace, Justice and Strong Institutions',\n",
       " 16: 'Goal 10 - Reduced Inequalities',\n",
       " 17: None}"
      ]
     },
     "execution_count": 19,
     "metadata": {},
     "output_type": "execute_result"
    }
   ],
   "source": [
    "mapping_class_goal = {value: key for key, value in mapping_goal_class.items()}\n",
    "mapping_class_goal"
   ]
  },
  {
   "cell_type": "markdown",
   "id": "c2c379c6-4a8a-4498-bb47-5a5cb278f784",
   "metadata": {},
   "source": [
    "# Eval"
   ]
  },
  {
   "cell_type": "code",
   "execution_count": 23,
   "id": "365b81d5-e36e-4d66-8564-eaccf128078e",
   "metadata": {
    "tags": []
   },
   "outputs": [
    {
     "ename": "AttributeError",
     "evalue": "'list' object has no attribute 'replace'",
     "output_type": "error",
     "traceback": [
      "\u001b[0;31m---------------------------------------------------------------------------\u001b[0m",
      "\u001b[0;31mAttributeError\u001b[0m                            Traceback (most recent call last)",
      "Cell \u001b[0;32mIn[23], line 1\u001b[0m\n\u001b[0;32m----> 1\u001b[0m output_BERT \u001b[38;5;241m=\u001b[39m output_BERT\u001b[38;5;241m.\u001b[39mreplace(mapping_class_goal)\n\u001b[1;32m      2\u001b[0m output_BERT\n",
      "\u001b[0;31mAttributeError\u001b[0m: 'list' object has no attribute 'replace'"
     ]
    }
   ],
   "source": [
    "output_BERT_mapped = output_BERT.replace(mapping_class_goal)\n",
    "output_BERT_mapped\n",
    "\n",
    "eplaced_array = [reversed_mapping[value] for value in original_array]"
   ]
  },
  {
   "cell_type": "code",
   "execution_count": 13,
   "id": "25c342a5-f6fb-426f-9ba1-e81a3222b90d",
   "metadata": {
    "tags": []
   },
   "outputs": [],
   "source": [
    "df_after = df.copy()\n",
    "df_after['BERT_Output'] = output_BERT"
   ]
  },
  {
   "cell_type": "code",
   "execution_count": 15,
   "id": "424b5f60-6e4b-48a5-a5ea-1f311f433e63",
   "metadata": {
    "tags": []
   },
   "outputs": [
    {
     "data": {
      "text/html": [
       "<div>\n",
       "<style scoped>\n",
       "    .dataframe tbody tr th:only-of-type {\n",
       "        vertical-align: middle;\n",
       "    }\n",
       "\n",
       "    .dataframe tbody tr th {\n",
       "        vertical-align: top;\n",
       "    }\n",
       "\n",
       "    .dataframe thead th {\n",
       "        text-align: right;\n",
       "    }\n",
       "</style>\n",
       "<table border=\"1\" class=\"dataframe\">\n",
       "  <thead>\n",
       "    <tr style=\"text-align: right;\">\n",
       "      <th></th>\n",
       "      <th>INDC Text</th>\n",
       "      <th>BERT_Output</th>\n",
       "    </tr>\n",
       "  </thead>\n",
       "  <tbody>\n",
       "    <tr>\n",
       "      <th>0</th>\n",
       "      <td>Climate change is leading to more frequent and...</td>\n",
       "      <td>11</td>\n",
       "    </tr>\n",
       "    <tr>\n",
       "      <th>1</th>\n",
       "      <td>Rising global temperatures are causing polar i...</td>\n",
       "      <td>13</td>\n",
       "    </tr>\n",
       "    <tr>\n",
       "      <th>2</th>\n",
       "      <td>Deforestation is a major contributor to the in...</td>\n",
       "      <td>5</td>\n",
       "    </tr>\n",
       "    <tr>\n",
       "      <th>3</th>\n",
       "      <td>Ocean acidification is harming marine ecosyste...</td>\n",
       "      <td>13</td>\n",
       "    </tr>\n",
       "    <tr>\n",
       "      <th>4</th>\n",
       "      <td>Increased carbon emissions are driving global ...</td>\n",
       "      <td>3</td>\n",
       "    </tr>\n",
       "    <tr>\n",
       "      <th>5</th>\n",
       "      <td>The loss of biodiversity is exacerbated by cha...</td>\n",
       "      <td>5</td>\n",
       "    </tr>\n",
       "    <tr>\n",
       "      <th>6</th>\n",
       "      <td>Extreme weather events, such as hurricanes and...</td>\n",
       "      <td>3</td>\n",
       "    </tr>\n",
       "    <tr>\n",
       "      <th>7</th>\n",
       "      <td>Rising sea levels are threatening coastal comm...</td>\n",
       "      <td>13</td>\n",
       "    </tr>\n",
       "    <tr>\n",
       "      <th>8</th>\n",
       "      <td>The climate crisis is impacting food security ...</td>\n",
       "      <td>6</td>\n",
       "    </tr>\n",
       "    <tr>\n",
       "      <th>9</th>\n",
       "      <td>Air pollution from burning fossil fuels is a s...</td>\n",
       "      <td>11</td>\n",
       "    </tr>\n",
       "  </tbody>\n",
       "</table>\n",
       "</div>"
      ],
      "text/plain": [
       "                                           INDC Text  BERT_Output\n",
       "0  Climate change is leading to more frequent and...           11\n",
       "1  Rising global temperatures are causing polar i...           13\n",
       "2  Deforestation is a major contributor to the in...            5\n",
       "3  Ocean acidification is harming marine ecosyste...           13\n",
       "4  Increased carbon emissions are driving global ...            3\n",
       "5  The loss of biodiversity is exacerbated by cha...            5\n",
       "6  Extreme weather events, such as hurricanes and...            3\n",
       "7  Rising sea levels are threatening coastal comm...           13\n",
       "8  The climate crisis is impacting food security ...            6\n",
       "9  Air pollution from burning fossil fuels is a s...           11"
      ]
     },
     "execution_count": 15,
     "metadata": {},
     "output_type": "execute_result"
    }
   ],
   "source": [
    "df_after"
   ]
  },
  {
   "cell_type": "code",
   "execution_count": null,
   "id": "e61907c0-279f-41e0-ab07-768b03b2c175",
   "metadata": {},
   "outputs": [],
   "source": []
  }
 ],
 "metadata": {
  "kernelspec": {
   "display_name": "Python 3 (ipykernel)",
   "language": "python",
   "name": "python3"
  },
  "language_info": {
   "codemirror_mode": {
    "name": "ipython",
    "version": 3
   },
   "file_extension": ".py",
   "mimetype": "text/x-python",
   "name": "python",
   "nbconvert_exporter": "python",
   "pygments_lexer": "ipython3",
   "version": "3.11.5"
  }
 },
 "nbformat": 4,
 "nbformat_minor": 5
}
