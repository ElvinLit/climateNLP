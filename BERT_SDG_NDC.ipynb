{
 "cells": [
  {
   "cell_type": "markdown",
   "id": "c39ac813-af4a-44c6-aa31-557ff4815413",
   "metadata": {},
   "source": [
    "# Imports"
   ]
  },
  {
   "cell_type": "code",
   "execution_count": 4,
   "id": "8179b546-314c-4c5f-9830-43dda2ddca64",
   "metadata": {},
   "outputs": [],
   "source": [
    "import pandas as pd\n",
    "import numpy as np\n",
    "import matplotlib.pyplot as plt\n",
    "\n",
    "from sklearn.model_selection import train_test_split\n",
    "\n",
    "import time\n",
    "\n",
    "from sklearn.metrics import classification_report, accuracy_score, precision_score, f1_score, recall_score, precision_recall_fscore_support, roc_auc_score, confusion_matrix"
   ]
  },
  {
   "cell_type": "code",
   "execution_count": 5,
   "id": "f467659c-d9b9-418a-93ed-a79398d48827",
   "metadata": {},
   "outputs": [],
   "source": [
    "df = pd.read_csv(\"CW_NDC_SDG_linkages.csv\")"
   ]
  },
  {
   "cell_type": "markdown",
   "id": "a702641a-9b42-43e0-a4df-f44bcc697922",
   "metadata": {},
   "source": [
    "# Preprocess"
   ]
  },
  {
   "cell_type": "code",
   "execution_count": 10,
   "id": "a0377a0a-3e87-4b1d-9b14-ef42f2818fc2",
   "metadata": {},
   "outputs": [
    {
     "name": "stderr",
     "output_type": "stream",
     "text": [
      "/opt/conda/lib/python3.11/site-packages/tqdm/auto.py:21: TqdmWarning: IProgress not found. Please update jupyter and ipywidgets. See https://ipywidgets.readthedocs.io/en/stable/user_install.html\n",
      "  from .autonotebook import tqdm as notebook_tqdm\n"
     ]
    }
   ],
   "source": [
    "from datasets import Dataset\n",
    "from transformers import Trainer, TrainingArguments\n",
    "from transformers import EvalPrediction\n",
    "\n",
    "import torch\n",
    "import tqdm"
   ]
  },
  {
   "cell_type": "code",
   "execution_count": 11,
   "id": "f75dae99-dfaa-4b6a-9e9c-839d30e39091",
   "metadata": {},
   "outputs": [],
   "source": [
    "df_tf = df.copy()"
   ]
  },
  {
   "cell_type": "code",
   "execution_count": 12,
   "id": "01c790b0-69f9-43bc-a8fe-84eccc84e17e",
   "metadata": {},
   "outputs": [],
   "source": [
    "df_tf = df_tf.drop(columns=['Country', 'ISO_code3', 'Document_slug', 'Status', 'Sector', 'Climate_response', 'Type_of_information', 'Unnamed: 10', 'Target'])"
   ]
  },
  {
   "cell_type": "markdown",
   "id": "a49052b4",
   "metadata": {},
   "source": [
    "### **Class integer not mapped directly to goal number"
   ]
  },
  {
   "cell_type": "code",
   "execution_count": 14,
   "id": "28bbd9f4-166a-4151-bf89-53fb9ac58321",
   "metadata": {},
   "outputs": [
    {
     "data": {
      "text/plain": [
       "{'Goal 7 - Affordable and Clean Energy': 0,\n",
       " 'Goal 12 - Responsible Consumption and Production ': 1,\n",
       " 'Goal 4 - Quality Education': 2,\n",
       " 'Goal 13 - Climate Action': 3,\n",
       " 'Goal 1 - No Poverty ': 4,\n",
       " 'Goal 15 - Life on Land': 5,\n",
       " 'Goal 2 - Zero Hunger': 6,\n",
       " 'Goal 17 - Partnerships for the Goal': 7,\n",
       " 'Goal 8 - Decent Work and Economic Growth': 8,\n",
       " 'Goal 9 - Industry, Innovation and Infrastructure': 9,\n",
       " 'Goal 11 - Sustainable Cities and Communities ': 10,\n",
       " 'Goal 3 - Good Health and Well-being': 11,\n",
       " 'Goal 6 - Clean Water and Sanitation': 12,\n",
       " 'Goal 14 - Life Below Water': 13,\n",
       " 'Goal 5 - Gender Equality': 14,\n",
       " 'Goal 16 - Peace, Justice and Strong Institutions': 15,\n",
       " 'Goal 10 - Reduced Inequalities': 16,\n",
       " nan: 17}"
      ]
     },
     "execution_count": 14,
     "metadata": {},
     "output_type": "execute_result"
    }
   ],
   "source": [
    "mapping_goal = {value: index for index, value in enumerate(df_tf['Goal'].unique())}\n",
    "mapping_goal"
   ]
  },
  {
   "cell_type": "code",
   "execution_count": 15,
   "id": "ae692bac-7909-4ce4-9a3b-66e21728e33c",
   "metadata": {},
   "outputs": [],
   "source": [
    "df_tf['Goal'] = df_tf['Goal'].map(mapping_goal)"
   ]
  },
  {
   "cell_type": "code",
   "execution_count": 17,
   "id": "5cbbe800-eacb-4e1d-95da-e04283637bff",
   "metadata": {},
   "outputs": [],
   "source": [
    "df_tf.rename(columns={'Goal': 'label'}, inplace=True)"
   ]
  },
  {
   "cell_type": "code",
   "execution_count": 18,
   "id": "3fca9cf5-192f-4b70-9a96-90a2a0aa51b6",
   "metadata": {},
   "outputs": [
    {
     "data": {
      "text/html": [
       "<div>\n",
       "<style scoped>\n",
       "    .dataframe tbody tr th:only-of-type {\n",
       "        vertical-align: middle;\n",
       "    }\n",
       "\n",
       "    .dataframe tbody tr th {\n",
       "        vertical-align: top;\n",
       "    }\n",
       "\n",
       "    .dataframe thead th {\n",
       "        text-align: right;\n",
       "    }\n",
       "</style>\n",
       "<table border=\"1\" class=\"dataframe\">\n",
       "  <thead>\n",
       "    <tr style=\"text-align: right;\">\n",
       "      <th></th>\n",
       "      <th>label</th>\n",
       "      <th>INDC Text</th>\n",
       "    </tr>\n",
       "  </thead>\n",
       "  <tbody>\n",
       "    <tr>\n",
       "      <th>0</th>\n",
       "      <td>0</td>\n",
       "      <td>Promoting economic development and sustainable...</td>\n",
       "    </tr>\n",
       "    <tr>\n",
       "      <th>1</th>\n",
       "      <td>1</td>\n",
       "      <td>Promoting economic development and sustainable...</td>\n",
       "    </tr>\n",
       "    <tr>\n",
       "      <th>2</th>\n",
       "      <td>2</td>\n",
       "      <td>Raising awareness for people of Afghanistan on...</td>\n",
       "    </tr>\n",
       "    <tr>\n",
       "      <th>3</th>\n",
       "      <td>1</td>\n",
       "      <td>Raising awareness for people of Afghanistan on...</td>\n",
       "    </tr>\n",
       "    <tr>\n",
       "      <th>4</th>\n",
       "      <td>3</td>\n",
       "      <td>Raising awareness for people of Afghanistan on...</td>\n",
       "    </tr>\n",
       "    <tr>\n",
       "      <th>...</th>\n",
       "      <td>...</td>\n",
       "      <td>...</td>\n",
       "    </tr>\n",
       "    <tr>\n",
       "      <th>24507</th>\n",
       "      <td>10</td>\n",
       "      <td>In 2023, the Infrastructure Sector Adaptation ...</td>\n",
       "    </tr>\n",
       "    <tr>\n",
       "      <th>24508</th>\n",
       "      <td>10</td>\n",
       "      <td>In 2025, Municipal Plans for Territorial Organ...</td>\n",
       "    </tr>\n",
       "    <tr>\n",
       "      <th>24509</th>\n",
       "      <td>10</td>\n",
       "      <td>Expansion and adaptation of the road network (...</td>\n",
       "    </tr>\n",
       "    <tr>\n",
       "      <th>24510</th>\n",
       "      <td>10</td>\n",
       "      <td>Adaptation to climate change in urban environm...</td>\n",
       "    </tr>\n",
       "    <tr>\n",
       "      <th>24511</th>\n",
       "      <td>7</td>\n",
       "      <td>In 2023, an adaptation strategy will have been...</td>\n",
       "    </tr>\n",
       "  </tbody>\n",
       "</table>\n",
       "<p>24512 rows × 2 columns</p>\n",
       "</div>"
      ],
      "text/plain": [
       "       label                                          INDC Text\n",
       "0          0  Promoting economic development and sustainable...\n",
       "1          1  Promoting economic development and sustainable...\n",
       "2          2  Raising awareness for people of Afghanistan on...\n",
       "3          1  Raising awareness for people of Afghanistan on...\n",
       "4          3  Raising awareness for people of Afghanistan on...\n",
       "...      ...                                                ...\n",
       "24507     10  In 2023, the Infrastructure Sector Adaptation ...\n",
       "24508     10  In 2025, Municipal Plans for Territorial Organ...\n",
       "24509     10  Expansion and adaptation of the road network (...\n",
       "24510     10  Adaptation to climate change in urban environm...\n",
       "24511      7  In 2023, an adaptation strategy will have been...\n",
       "\n",
       "[24512 rows x 2 columns]"
      ]
     },
     "execution_count": 18,
     "metadata": {},
     "output_type": "execute_result"
    }
   ],
   "source": [
    "df_tf"
   ]
  },
  {
   "cell_type": "markdown",
   "id": "4348b198-fbb7-4107-af76-532bba2e992a",
   "metadata": {},
   "source": [
    "# Metrics"
   ]
  },
  {
   "cell_type": "code",
   "execution_count": 19,
   "id": "f8e0e285-058a-429a-a618-9210ff05a42c",
   "metadata": {},
   "outputs": [],
   "source": [
    "def compute_metrics(pred: EvalPrediction):\n",
    "    labels = pred.label_ids\n",
    "    preds = pred.predictions.argmax(-1)\n",
    "    \n",
    "    accuracy = accuracy_score(labels, preds)\n",
    "    \n",
    "    precision, recall, f1, _ = precision_recall_fscore_support(labels, preds, average='weighted') # Feel free to change to macro, micro, etc.\n",
    "    \n",
    "    return {\n",
    "        'accuracy': accuracy,\n",
    "        'precision': precision,\n",
    "        'recall': recall,\n",
    "        'f1': f1,\n",
    "    }"
   ]
  },
  {
   "cell_type": "code",
   "execution_count": 20,
   "id": "6eab194e-64e9-4817-acaa-c4f3e9afa7ab",
   "metadata": {},
   "outputs": [],
   "source": [
    "def tokenize_function(examples):\n",
    "    return tokenizer(examples[\"INDC Text\"], padding=\"max_length\", truncation=True)"
   ]
  },
  {
   "cell_type": "markdown",
   "id": "78da3356-ca2e-46da-8d45-c18a5be3a639",
   "metadata": {},
   "source": [
    "# Train"
   ]
  },
  {
   "cell_type": "code",
   "execution_count": 48,
   "id": "941ec93d-d3b1-4fe6-b4a9-1181173041eb",
   "metadata": {},
   "outputs": [],
   "source": [
    "from transformers import BertTokenizer, BertForSequenceClassification"
   ]
  },
  {
   "cell_type": "code",
   "execution_count": 22,
   "id": "d4ab6702-67ca-4367-b771-22c8505cf48a",
   "metadata": {},
   "outputs": [],
   "source": [
    "device = torch.device('cuda' if torch.cuda.is_available() else 'cpu')"
   ]
  },
  {
   "cell_type": "code",
   "execution_count": 50,
   "id": "de494689-7b1a-4c2c-9663-9a5ed5d17dc8",
   "metadata": {
    "scrolled": true
   },
   "outputs": [
    {
     "name": "stderr",
     "output_type": "stream",
     "text": [
      "Some weights of BertForSequenceClassification were not initialized from the model checkpoint at bert-base-uncased and are newly initialized: ['classifier.bias', 'classifier.weight']\n",
      "You should probably TRAIN this model on a down-stream task to be able to use it for predictions and inference.\n"
     ]
    }
   ],
   "source": [
    "tokenizer = BertTokenizer.from_pretrained('bert-base-uncased')\n",
    "model = BertForSequenceClassification.from_pretrained('bert-base-uncased', num_labels=18) # len(mapping_goal)"
   ]
  },
  {
   "cell_type": "code",
   "execution_count": 51,
   "id": "54f6b0a1-ffd8-4ee0-b825-7a8bbc06cbf0",
   "metadata": {},
   "outputs": [
    {
     "name": "stderr",
     "output_type": "stream",
     "text": [
      "Map: 100%|██████████| 19609/19609 [00:11<00:00, 1746.85 examples/s]\n",
      "Map: 100%|██████████| 4903/4903 [00:02<00:00, 1784.20 examples/s]\n"
     ]
    }
   ],
   "source": [
    "dataset = Dataset.from_pandas(df_tf[['INDC Text', 'label']])\n",
    "\n",
    "split_datasets = dataset.train_test_split(test_size=0.2)\n",
    "train_dataset = split_datasets['train'].map(tokenize_function, batched=True)\n",
    "eval_dataset = split_datasets['test'].map(tokenize_function, batched=True)\n",
    "\n",
    "train_dataset.set_format('torch')\n",
    "eval_dataset.set_format('torch')"
   ]
  },
  {
   "cell_type": "code",
   "execution_count": 55,
   "id": "5d4021cf-dd19-474e-ace2-c80264e6673f",
   "metadata": {},
   "outputs": [
    {
     "data": {
      "text/html": [
       "\n",
       "    <div>\n",
       "      \n",
       "      <progress value='24520' max='24520' style='width:300px; height:20px; vertical-align: middle;'></progress>\n",
       "      [24520/24520 1:23:35, Epoch 10/10]\n",
       "    </div>\n",
       "    <table border=\"1\" class=\"dataframe\">\n",
       "  <thead>\n",
       " <tr style=\"text-align: left;\">\n",
       "      <th>Epoch</th>\n",
       "      <th>Training Loss</th>\n",
       "      <th>Validation Loss</th>\n",
       "      <th>Accuracy</th>\n",
       "      <th>Precision</th>\n",
       "      <th>Recall</th>\n",
       "      <th>F1</th>\n",
       "    </tr>\n",
       "  </thead>\n",
       "  <tbody>\n",
       "    <tr>\n",
       "      <td>1</td>\n",
       "      <td>1.057400</td>\n",
       "      <td>1.290137</td>\n",
       "      <td>0.643280</td>\n",
       "      <td>0.641283</td>\n",
       "      <td>0.643280</td>\n",
       "      <td>0.635259</td>\n",
       "    </tr>\n",
       "    <tr>\n",
       "      <td>2</td>\n",
       "      <td>0.647600</td>\n",
       "      <td>1.164800</td>\n",
       "      <td>0.633082</td>\n",
       "      <td>0.641085</td>\n",
       "      <td>0.633082</td>\n",
       "      <td>0.627233</td>\n",
       "    </tr>\n",
       "    <tr>\n",
       "      <td>3</td>\n",
       "      <td>0.977000</td>\n",
       "      <td>1.105707</td>\n",
       "      <td>0.656129</td>\n",
       "      <td>0.656728</td>\n",
       "      <td>0.656129</td>\n",
       "      <td>0.653094</td>\n",
       "    </tr>\n",
       "    <tr>\n",
       "      <td>4</td>\n",
       "      <td>0.792900</td>\n",
       "      <td>1.138387</td>\n",
       "      <td>0.654701</td>\n",
       "      <td>0.652900</td>\n",
       "      <td>0.654701</td>\n",
       "      <td>0.651073</td>\n",
       "    </tr>\n",
       "    <tr>\n",
       "      <td>5</td>\n",
       "      <td>0.493300</td>\n",
       "      <td>1.196001</td>\n",
       "      <td>0.654089</td>\n",
       "      <td>0.653321</td>\n",
       "      <td>0.654089</td>\n",
       "      <td>0.649945</td>\n",
       "    </tr>\n",
       "    <tr>\n",
       "      <td>6</td>\n",
       "      <td>0.618900</td>\n",
       "      <td>1.248963</td>\n",
       "      <td>0.649398</td>\n",
       "      <td>0.653585</td>\n",
       "      <td>0.649398</td>\n",
       "      <td>0.647090</td>\n",
       "    </tr>\n",
       "    <tr>\n",
       "      <td>7</td>\n",
       "      <td>0.503300</td>\n",
       "      <td>1.255291</td>\n",
       "      <td>0.649194</td>\n",
       "      <td>0.650419</td>\n",
       "      <td>0.649194</td>\n",
       "      <td>0.644006</td>\n",
       "    </tr>\n",
       "    <tr>\n",
       "      <td>8</td>\n",
       "      <td>0.591900</td>\n",
       "      <td>1.251025</td>\n",
       "      <td>0.644707</td>\n",
       "      <td>0.645202</td>\n",
       "      <td>0.644707</td>\n",
       "      <td>0.641719</td>\n",
       "    </tr>\n",
       "    <tr>\n",
       "      <td>9</td>\n",
       "      <td>0.569900</td>\n",
       "      <td>1.302709</td>\n",
       "      <td>0.646951</td>\n",
       "      <td>0.644352</td>\n",
       "      <td>0.646951</td>\n",
       "      <td>0.644399</td>\n",
       "    </tr>\n",
       "    <tr>\n",
       "      <td>10</td>\n",
       "      <td>0.356200</td>\n",
       "      <td>1.384808</td>\n",
       "      <td>0.643688</td>\n",
       "      <td>0.639736</td>\n",
       "      <td>0.643688</td>\n",
       "      <td>0.640528</td>\n",
       "    </tr>\n",
       "  </tbody>\n",
       "</table><p>"
      ],
      "text/plain": [
       "<IPython.core.display.HTML object>"
      ]
     },
     "metadata": {},
     "output_type": "display_data"
    },
    {
     "name": "stderr",
     "output_type": "stream",
     "text": [
      "/home/jovyan/.local/lib/python3.11/site-packages/sklearn/metrics/_classification.py:1334: UndefinedMetricWarning: Precision and F-score are ill-defined and being set to 0.0 in labels with no predicted samples. Use `zero_division` parameter to control this behavior.\n",
      "  _warn_prf(average, modifier, msg_start, len(result))\n"
     ]
    },
    {
     "name": "stdout",
     "output_type": "stream",
     "text": [
      "Duration: 5018.279499292374 seconds\n"
     ]
    }
   ],
   "source": [
    "training_args = TrainingArguments(\n",
    "    output_dir=\"./results_BERT_new\",\n",
    "    num_train_epochs=10,\n",
    "    per_device_train_batch_size=8,\n",
    "    per_device_eval_batch_size=8,\n",
    "    warmup_steps=500,\n",
    "    weight_decay=0.01,\n",
    "    logging_dir=\"./logs_BERT_new\",\n",
    "    logging_steps=10,\n",
    "    evaluation_strategy=\"epoch\",  # Metrics at end of epoch\n",
    ")\n",
    "\n",
    "trainer = Trainer(\n",
    "    model=model,\n",
    "    args=training_args,\n",
    "    train_dataset=train_dataset,\n",
    "    eval_dataset=eval_dataset,\n",
    "    compute_metrics=compute_metrics\n",
    ")\n",
    "\n",
    "time_start = time.time()\n",
    "trainer.train()\n",
    "\n",
    "time_end = time.time()\n",
    "print(f\"Duration: {time_end - time_start} seconds\") "
   ]
  },
  {
   "cell_type": "code",
   "execution_count": 56,
   "id": "efba6e91-bfd0-4d6e-8759-abb472413ac4",
   "metadata": {},
   "outputs": [
    {
     "data": {
      "text/html": [
       "\n",
       "    <div>\n",
       "      \n",
       "      <progress value='613' max='613' style='width:300px; height:20px; vertical-align: middle;'></progress>\n",
       "      [613/613 00:35]\n",
       "    </div>\n",
       "    "
      ],
      "text/plain": [
       "<IPython.core.display.HTML object>"
      ]
     },
     "metadata": {},
     "output_type": "display_data"
    },
    {
     "data": {
      "text/plain": [
       "{'eval_loss': 1.3848077058792114,\n",
       " 'eval_accuracy': 0.6436875382418927,\n",
       " 'eval_precision': 0.6397364264545716,\n",
       " 'eval_recall': 0.6436875382418927,\n",
       " 'eval_f1': 0.640527805226724,\n",
       " 'eval_runtime': 35.7051,\n",
       " 'eval_samples_per_second': 137.319,\n",
       " 'eval_steps_per_second': 17.168,\n",
       " 'epoch': 10.0}"
      ]
     },
     "execution_count": 56,
     "metadata": {},
     "output_type": "execute_result"
    }
   ],
   "source": [
    "trainer.evaluate(eval_dataset)"
   ]
  },
  {
   "cell_type": "code",
   "execution_count": 57,
   "id": "fe543b95-0efa-4587-b60b-43a2f8e46290",
   "metadata": {},
   "outputs": [],
   "source": [
    "model_path = \"./results_BERT_new/saved_model\"\n",
    "tokenizer.save_pretrained(model_path)\n",
    "model.save_pretrained(model_path)"
   ]
  }
 ],
 "metadata": {
  "kernelspec": {
   "display_name": "Python 3 (ipykernel)",
   "language": "python",
   "name": "python3"
  },
  "language_info": {
   "codemirror_mode": {
    "name": "ipython",
    "version": 3
   },
   "file_extension": ".py",
   "mimetype": "text/x-python",
   "name": "python",
   "nbconvert_exporter": "python",
   "pygments_lexer": "ipython3",
   "version": "3.10.9"
  }
 },
 "nbformat": 4,
 "nbformat_minor": 5
}
